{
 "cells": [
  {
   "cell_type": "markdown",
   "metadata": {},
   "source": [
    "This is a Jupyter notebook for NN to study the CEF problem"
   ]
  },
  {
   "cell_type": "code",
   "execution_count": 1,
   "metadata": {},
   "outputs": [],
   "source": [
    "import pandas as pd\n",
    "CEF_data=pd.read_csv('CEF.csv').dropna()\n",
    "X,y = CEF_data[['E3','E5','E7','E9','s1','s2','s3','s4']].values, CEF_data[['C20','C40','C60','C44','C64']].values\n",
    "X=X/150\n",
    "y=y/1000\n",
    "from sklearn.model_selection import train_test_split\n",
    "\n",
    "X_train, X_test, y_train, y_test = train_test_split(X,y,test_size=0.30, random_state=0)\n"
   ]
  },
  {
   "cell_type": "markdown",
   "metadata": {},
   "source": [
    "predictions=model.predict([[12.96,25.19,44.36,86.51,0.40,1.00,0.24,0.041]])"
   ]
  },
  {
   "cell_type": "markdown",
   "metadata": {},
   "source": [
    "!pip install --upgrade tensorflow"
   ]
  },
  {
   "cell_type": "code",
   "execution_count": 2,
   "metadata": {},
   "outputs": [
    {
     "name": "stdout",
     "output_type": "stream",
     "text": [
      "Libraries imported.\n",
      "Keras version: 2.4.0\n",
      "TensorFlow version: 2.4.1\n"
     ]
    }
   ],
   "source": [
    "import tensorflow\n",
    "from tensorflow import keras\n",
    "from tensorflow.keras import models\n",
    "from tensorflow.keras.models import Sequential\n",
    "from tensorflow.keras.layers import Dense\n",
    "from tensorflow.keras import utils\n",
    "from tensorflow.keras import optimizers\n",
    "\n",
    "# Set random seed for reproducability\n",
    "tensorflow.random.set_seed(0)\n",
    "\n",
    "print(\"Libraries imported.\")\n",
    "print('Keras version:',keras.__version__)\n",
    "print('TensorFlow version:',tensorflow.__version__)"
   ]
  },
  {
   "cell_type": "code",
   "execution_count": 3,
   "metadata": {},
   "outputs": [],
   "source": [
    "X_train = X_train.astype('float32')\n",
    "X_test = X_test.astype('float32')\n",
    "y_train = y_train.astype('float32')\n",
    "y_text = y_test.astype('float32')"
   ]
  },
  {
   "cell_type": "code",
   "execution_count": 4,
   "metadata": {},
   "outputs": [
    {
     "data": {
      "text/plain": [
       "array([[-0.395, -0.516,  0.089, -1.   , -1.   ],\n",
       "       [ 0.299,  0.197,  0.862, -0.601, -0.069],\n",
       "       [-0.05 ,  0.1  , -0.5  , -0.425, -0.5  ],\n",
       "       ...,\n",
       "       [-0.35 , -0.05 , -0.125, -0.275,  0.4  ],\n",
       "       [-0.45 ,  0.1  , -0.45 , -0.45 ,  0.4  ],\n",
       "       [ 0.964,  0.197,  0.33 , -0.468,  0.729]], dtype=float32)"
      ]
     },
     "execution_count": 4,
     "metadata": {},
     "output_type": "execute_result"
    }
   ],
   "source": [
    "y_train"
   ]
  },
  {
   "cell_type": "code",
   "execution_count": 10,
   "metadata": {},
   "outputs": [
    {
     "name": "stdout",
     "output_type": "stream",
     "text": [
      "Model: \"sequential_2\"\n",
      "_________________________________________________________________\n",
      "Layer (type)                 Output Shape              Param #   \n",
      "=================================================================\n",
      "dense_9 (Dense)              (None, 512)               4608      \n",
      "_________________________________________________________________\n",
      "dense_10 (Dense)             (None, 512)               262656    \n",
      "_________________________________________________________________\n",
      "dense_11 (Dense)             (None, 512)               262656    \n",
      "_________________________________________________________________\n",
      "dense_12 (Dense)             (None, 512)               262656    \n",
      "_________________________________________________________________\n",
      "dense_13 (Dense)             (None, 512)               262656    \n",
      "_________________________________________________________________\n",
      "dense_14 (Dense)             (None, 5)                 2565      \n",
      "=================================================================\n",
      "Total params: 1,057,797\n",
      "Trainable params: 1,057,797\n",
      "Non-trainable params: 0\n",
      "_________________________________________________________________\n",
      "None\n"
     ]
    }
   ],
   "source": [
    "model = Sequential()\n",
    "hl = 512\n",
    "model.add(Dense(hl, input_dim = 8, activation ='tanh'))\n",
    "model.add(Dense(hl, input_dim = hl, activation = 'tanh'))\n",
    "model.add(Dense(hl, input_dim = hl, activation = 'tanh'))\n",
    "model.add(Dense(hl, input_dim = hl, activation = 'tanh'))\n",
    "model.add(Dense(hl, input_dim = hl, activation = 'tanh'))\n",
    "model.add(Dense(5, input_dim=hl))\n",
    "\n",
    "print(model.summary())"
   ]
  },
  {
   "cell_type": "code",
   "execution_count": 15,
   "metadata": {
    "scrolled": true
   },
   "outputs": [
    {
     "name": "stdout",
     "output_type": "stream",
     "text": [
      "Epoch 1/100\n",
      "58206/58206 [==============================] - 154s 3ms/step - loss: 0.1771 - val_loss: 0.1812\n",
      "Epoch 2/100\n",
      "58206/58206 [==============================] - 154s 3ms/step - loss: 0.1766 - val_loss: 0.1795\n",
      "Epoch 3/100\n",
      "58206/58206 [==============================] - 158s 3ms/step - loss: 0.1757 - val_loss: 0.1789\n",
      "Epoch 4/100\n",
      "58206/58206 [==============================] - 153s 3ms/step - loss: 0.1749 - val_loss: 0.1775\n",
      "Epoch 5/100\n",
      "58206/58206 [==============================] - 154s 3ms/step - loss: 0.1742 - val_loss: 0.1767\n",
      "Epoch 6/100\n",
      "58206/58206 [==============================] - 153s 3ms/step - loss: 0.1734 - val_loss: 0.1751\n",
      "Epoch 7/100\n",
      "58206/58206 [==============================] - 152s 3ms/step - loss: 0.1726 - val_loss: 0.1760\n",
      "Epoch 8/100\n",
      "58206/58206 [==============================] - 155s 3ms/step - loss: 0.1717 - val_loss: 0.1750\n",
      "Epoch 9/100\n",
      "58206/58206 [==============================] - 149s 3ms/step - loss: 0.1711 - val_loss: 0.1747\n",
      "Epoch 10/100\n",
      "58206/58206 [==============================] - 150s 3ms/step - loss: 0.1700 - val_loss: 0.1740\n",
      "Epoch 11/100\n",
      "58206/58206 [==============================] - 149s 3ms/step - loss: 0.1692 - val_loss: 0.1723\n",
      "Epoch 12/100\n",
      "58206/58206 [==============================] - 149s 3ms/step - loss: 0.1683 - val_loss: 0.1717\n",
      "Epoch 13/100\n",
      "58206/58206 [==============================] - 148s 3ms/step - loss: 0.1677 - val_loss: 0.1725\n",
      "Epoch 14/100\n",
      "58206/58206 [==============================] - 149s 3ms/step - loss: 0.1669 - val_loss: 0.1714\n",
      "Epoch 15/100\n",
      "58206/58206 [==============================] - 148s 3ms/step - loss: 0.1661 - val_loss: 0.1713\n",
      "Epoch 16/100\n",
      "58206/58206 [==============================] - 149s 3ms/step - loss: 0.1656 - val_loss: 0.1690\n",
      "Epoch 17/100\n",
      "58206/58206 [==============================] - 150s 3ms/step - loss: 0.1647 - val_loss: 0.1678\n",
      "Epoch 18/100\n",
      "58206/58206 [==============================] - 150s 3ms/step - loss: 0.1645 - val_loss: 0.1686\n",
      "Epoch 19/100\n",
      "58206/58206 [==============================] - 150s 3ms/step - loss: 0.1637 - val_loss: 0.1669\n",
      "Epoch 20/100\n",
      "58206/58206 [==============================] - 150s 3ms/step - loss: 0.1634 - val_loss: 0.1675\n",
      "Epoch 21/100\n",
      "58206/58206 [==============================] - 149s 3ms/step - loss: 0.1629 - val_loss: 0.1679\n",
      "Epoch 22/100\n",
      "58206/58206 [==============================] - 149s 3ms/step - loss: 0.1623 - val_loss: 0.1686\n",
      "Epoch 23/100\n",
      "58206/58206 [==============================] - 149s 3ms/step - loss: 0.1622 - val_loss: 0.1664\n",
      "Epoch 24/100\n",
      "58206/58206 [==============================] - 149s 3ms/step - loss: 0.1615 - val_loss: 0.1671\n",
      "Epoch 25/100\n",
      "58206/58206 [==============================] - 149s 3ms/step - loss: 0.1611 - val_loss: 0.1659\n",
      "Epoch 26/100\n",
      "58206/58206 [==============================] - 149s 3ms/step - loss: 0.1606 - val_loss: 0.1658\n",
      "Epoch 27/100\n",
      "58206/58206 [==============================] - 149s 3ms/step - loss: 0.1602 - val_loss: 0.1665\n",
      "Epoch 28/100\n",
      "58206/58206 [==============================] - 150s 3ms/step - loss: 0.1600 - val_loss: 0.1655\n",
      "Epoch 29/100\n",
      "58206/58206 [==============================] - 149s 3ms/step - loss: 0.1593 - val_loss: 0.1651\n",
      "Epoch 30/100\n",
      "58206/58206 [==============================] - 149s 3ms/step - loss: 0.1591 - val_loss: 0.1656\n",
      "Epoch 31/100\n",
      "58206/58206 [==============================] - 149s 3ms/step - loss: 0.1589 - val_loss: 0.1649\n",
      "Epoch 32/100\n",
      "58206/58206 [==============================] - 149s 3ms/step - loss: 0.1585 - val_loss: 0.1655\n",
      "Epoch 33/100\n",
      "58206/58206 [==============================] - 148s 3ms/step - loss: 0.1581 - val_loss: 0.1631\n",
      "Epoch 34/100\n",
      "58206/58206 [==============================] - 148s 3ms/step - loss: 0.1577 - val_loss: 0.1644\n",
      "Epoch 35/100\n",
      "58206/58206 [==============================] - 148s 3ms/step - loss: 0.1576 - val_loss: 0.1630\n",
      "Epoch 36/100\n",
      "58206/58206 [==============================] - 148s 3ms/step - loss: 0.1571 - val_loss: 0.1641\n",
      "Epoch 37/100\n",
      "58206/58206 [==============================] - 147s 3ms/step - loss: 0.1569 - val_loss: 0.1639\n",
      "Epoch 38/100\n",
      "58206/58206 [==============================] - 148s 3ms/step - loss: 0.1566 - val_loss: 0.1624\n",
      "Epoch 39/100\n",
      "58206/58206 [==============================] - 148s 3ms/step - loss: 0.1562 - val_loss: 0.1640\n",
      "Epoch 40/100\n",
      "58206/58206 [==============================] - 148s 3ms/step - loss: 0.1560 - val_loss: 0.1655\n",
      "Epoch 41/100\n",
      "58206/58206 [==============================] - 148s 3ms/step - loss: 0.1556 - val_loss: 0.1639\n",
      "Epoch 42/100\n",
      "58206/58206 [==============================] - 148s 3ms/step - loss: 0.1556 - val_loss: 0.1624\n",
      "Epoch 43/100\n",
      "58206/58206 [==============================] - 147s 3ms/step - loss: 0.1553 - val_loss: 0.1620\n",
      "Epoch 44/100\n",
      "58206/58206 [==============================] - 147s 3ms/step - loss: 0.1550 - val_loss: 0.1616\n",
      "Epoch 45/100\n",
      "58206/58206 [==============================] - 147s 3ms/step - loss: 0.1548 - val_loss: 0.1631\n",
      "Epoch 46/100\n",
      "58206/58206 [==============================] - 149s 3ms/step - loss: 0.1545 - val_loss: 0.1615\n",
      "Epoch 47/100\n",
      "58206/58206 [==============================] - 148s 3ms/step - loss: 0.1545 - val_loss: 0.1623\n",
      "Epoch 48/100\n",
      "58206/58206 [==============================] - 148s 3ms/step - loss: 0.1542 - val_loss: 0.1631\n",
      "Epoch 49/100\n",
      "58206/58206 [==============================] - 148s 3ms/step - loss: 0.1540 - val_loss: 0.1627\n",
      "Epoch 50/100\n",
      "58206/58206 [==============================] - 147s 3ms/step - loss: 0.1536 - val_loss: 0.1606\n",
      "Epoch 51/100\n",
      "58206/58206 [==============================] - 148s 3ms/step - loss: 0.1537 - val_loss: 0.1607\n",
      "Epoch 52/100\n",
      "58206/58206 [==============================] - 148s 3ms/step - loss: 0.1533 - val_loss: 0.1628\n",
      "Epoch 53/100\n",
      "58206/58206 [==============================] - 148s 3ms/step - loss: 0.1533 - val_loss: 0.1612\n",
      "Epoch 54/100\n",
      "58206/58206 [==============================] - 150s 3ms/step - loss: 0.1529 - val_loss: 0.1621\n",
      "Epoch 55/100\n",
      "58206/58206 [==============================] - 147s 3ms/step - loss: 0.1526 - val_loss: 0.1601\n",
      "Epoch 56/100\n",
      "58206/58206 [==============================] - 148s 3ms/step - loss: 0.1525 - val_loss: 0.1605\n",
      "Epoch 57/100\n",
      "58206/58206 [==============================] - 147s 3ms/step - loss: 0.1523 - val_loss: 0.1609\n",
      "Epoch 58/100\n",
      "58206/58206 [==============================] - 149s 3ms/step - loss: 0.1520 - val_loss: 0.1613\n",
      "Epoch 59/100\n",
      "58206/58206 [==============================] - 148s 3ms/step - loss: 0.1519 - val_loss: 0.1607\n",
      "Epoch 60/100\n",
      "58206/58206 [==============================] - 148s 3ms/step - loss: 0.1516 - val_loss: 0.1599\n",
      "Epoch 61/100\n",
      "58206/58206 [==============================] - 148s 3ms/step - loss: 0.1515 - val_loss: 0.1608\n",
      "Epoch 62/100\n",
      "58206/58206 [==============================] - 148s 3ms/step - loss: 0.1515 - val_loss: 0.1595\n",
      "Epoch 63/100\n",
      "58206/58206 [==============================] - 149s 3ms/step - loss: 0.1513 - val_loss: 0.1606\n",
      "Epoch 64/100\n",
      "58206/58206 [==============================] - 148s 3ms/step - loss: 0.1511 - val_loss: 0.1605\n",
      "Epoch 65/100\n",
      "58206/58206 [==============================] - 148s 3ms/step - loss: 0.1509 - val_loss: 0.1592\n",
      "Epoch 66/100\n",
      "58206/58206 [==============================] - 149s 3ms/step - loss: 0.1508 - val_loss: 0.1610\n",
      "Epoch 67/100\n",
      "58206/58206 [==============================] - 147s 3ms/step - loss: 0.1506 - val_loss: 0.1597\n",
      "Epoch 68/100\n",
      "58206/58206 [==============================] - 149s 3ms/step - loss: 0.1503 - val_loss: 0.1594\n",
      "Epoch 69/100\n",
      "58206/58206 [==============================] - 148s 3ms/step - loss: 0.1502 - val_loss: 0.1594\n",
      "Epoch 70/100\n",
      "58206/58206 [==============================] - 148s 3ms/step - loss: 0.1502 - val_loss: 0.1607\n",
      "Epoch 71/100\n",
      "58206/58206 [==============================] - 149s 3ms/step - loss: 0.1501 - val_loss: 0.1594\n",
      "Epoch 72/100\n",
      "58206/58206 [==============================] - 148s 3ms/step - loss: 0.1497 - val_loss: 0.1593\n",
      "Epoch 73/100\n",
      "58206/58206 [==============================] - 147s 3ms/step - loss: 0.1497 - val_loss: 0.1606\n",
      "Epoch 74/100\n",
      "58206/58206 [==============================] - 148s 3ms/step - loss: 0.1496 - val_loss: 0.1595\n",
      "Epoch 75/100\n",
      "58206/58206 [==============================] - 148s 3ms/step - loss: 0.1497 - val_loss: 0.1600\n",
      "Epoch 76/100\n",
      "58206/58206 [==============================] - 148s 3ms/step - loss: 0.1492 - val_loss: 0.1589\n"
     ]
    },
    {
     "name": "stdout",
     "output_type": "stream",
     "text": [
      "Epoch 77/100\n",
      "58206/58206 [==============================] - 147s 3ms/step - loss: 0.1491 - val_loss: 0.1584\n",
      "Epoch 78/100\n",
      "58206/58206 [==============================] - 149s 3ms/step - loss: 0.1492 - val_loss: 0.1590\n",
      "Epoch 79/100\n",
      "58206/58206 [==============================] - 148s 3ms/step - loss: 0.1490 - val_loss: 0.1599\n",
      "Epoch 80/100\n",
      "58206/58206 [==============================] - 148s 3ms/step - loss: 0.1489 - val_loss: 0.1585\n",
      "Epoch 81/100\n",
      "58206/58206 [==============================] - 148s 3ms/step - loss: 0.1486 - val_loss: 0.1578\n",
      "Epoch 82/100\n",
      "58206/58206 [==============================] - 148s 3ms/step - loss: 0.1487 - val_loss: 0.1597\n",
      "Epoch 83/100\n",
      "58206/58206 [==============================] - 148s 3ms/step - loss: 0.1484 - val_loss: 0.1611\n",
      "Epoch 84/100\n",
      "58206/58206 [==============================] - 148s 3ms/step - loss: 0.1483 - val_loss: 0.1580\n",
      "Epoch 85/100\n",
      "58206/58206 [==============================] - 148s 3ms/step - loss: 0.1482 - val_loss: 0.1588\n",
      "Epoch 86/100\n",
      "58206/58206 [==============================] - 148s 3ms/step - loss: 0.1480 - val_loss: 0.1601\n",
      "Epoch 87/100\n",
      "58206/58206 [==============================] - 148s 3ms/step - loss: 0.1480 - val_loss: 0.1583\n",
      "Epoch 88/100\n",
      "58206/58206 [==============================] - 148s 3ms/step - loss: 0.1481 - val_loss: 0.1589\n",
      "Epoch 89/100\n",
      "58206/58206 [==============================] - 148s 3ms/step - loss: 0.1478 - val_loss: 0.1584\n",
      "Epoch 90/100\n",
      "58206/58206 [==============================] - 148s 3ms/step - loss: 0.1476 - val_loss: 0.1575\n",
      "Epoch 91/100\n",
      "58206/58206 [==============================] - 148s 3ms/step - loss: 0.1474 - val_loss: 0.1575\n",
      "Epoch 92/100\n",
      "58206/58206 [==============================] - 148s 3ms/step - loss: 0.1472 - val_loss: 0.1572\n",
      "Epoch 93/100\n",
      "58206/58206 [==============================] - 149s 3ms/step - loss: 0.1474 - val_loss: 0.1575\n",
      "Epoch 94/100\n",
      "58206/58206 [==============================] - 148s 3ms/step - loss: 0.1472 - val_loss: 0.1608\n",
      "Epoch 95/100\n",
      "58206/58206 [==============================] - 147s 3ms/step - loss: 0.1473 - val_loss: 0.1592\n",
      "Epoch 96/100\n",
      "58206/58206 [==============================] - 147s 3ms/step - loss: 0.1471 - val_loss: 0.1578\n",
      "Epoch 97/100\n",
      "58206/58206 [==============================] - 148s 3ms/step - loss: 0.1468 - val_loss: 0.1582\n",
      "Epoch 98/100\n",
      "58206/58206 [==============================] - 149s 3ms/step - loss: 0.1467 - val_loss: 0.1574\n",
      "Epoch 99/100\n",
      "58206/58206 [==============================] - 147s 3ms/step - loss: 0.1468 - val_loss: 0.1579\n",
      "Epoch 100/100\n",
      "58206/58206 [==============================] - 148s 3ms/step - loss: 0.1465 - val_loss: 0.1576\n"
     ]
    }
   ],
   "source": [
    "learning_rate=0.0001\n",
    "opt = optimizers.Adam(lr=learning_rate)\n",
    "model.compile(loss = 'mean_absolute_error',\n",
    "              optimizer=opt,\n",
    "              )\n",
    "num_epochs=100\n",
    "history = model.fit(X_train, y_train, epochs=num_epochs, batch_size=50, validation_data=(X_test, y_test))"
   ]
  },
  {
   "cell_type": "code",
   "execution_count": 16,
   "metadata": {
    "scrolled": true
   },
   "outputs": [
    {
     "data": {
      "image/png": "[encoded data removed]",
      "text/plain": [
       "<Figure size 432x288 with 1 Axes>"
      ]
     },
     "metadata": {
      "needs_background": "light"
     },
     "output_type": "display_data"
    }
   ],
   "source": [
    "from matplotlib import pyplot as plt\n",
    "\n",
    "epoch_nums = range(1,num_epochs+1)\n",
    "training_loss = history.history[\"loss\"]\n",
    "validation_loss = history.history[\"val_loss\"]\n",
    "plt.plot(epoch_nums, training_loss)\n",
    "plt.plot(epoch_nums, validation_loss)\n",
    "plt.xlabel('epoch')\n",
    "plt.ylabel('loss')\n",
    "plt.legend(['training', 'validation'], loc='upper right')\n",
    "plt.show()"
   ]
  },
  {
   "cell_type": "code",
   "execution_count": 17,
   "metadata": {
    "scrolled": true
   },
   "outputs": [
    {
     "name": "stdout",
     "output_type": "stream",
     "text": [
      "[[ 59.493572  22.238844  -5.163856 -42.692184  29.24858 ]]\n",
      "INFO:tensorflow:Assets written to: my_model\\assets\n"
     ]
    }
   ],
   "source": [
    "import numpy as np\n",
    "predictions=model.predict([[0.0864    , 0.16793333, 0.29573333, 0.57673333, 0.26666667,\n",
    "       0.66666667, 0.16      , 0.02733333]])\n",
    "np.set_printoptions(suppress=True)\n",
    "print(predictions*1000)\n",
    "model.save(\"my_model\")\n"
   ]
  },
  {
   "cell_type": "code",
   "execution_count": 19,
   "metadata": {},
   "outputs": [
    {
     "data": {
      "text/plain": [
       "array([0.0864    , 0.16793333, 0.29573333, 0.57673333, 0.26666667,\n",
       "       0.66666667, 0.16      , 0.02733333])"
      ]
     },
     "execution_count": 19,
     "metadata": {},
     "output_type": "execute_result"
    }
   ],
   "source": [
    "import numpy as np\n",
    "p=np.array([12.96,25.19,44.36,86.51,40,100,24,4.1])\n",
    "p/150"
   ]
  },
  {
   "cell_type": "code",
   "execution_count": null,
   "metadata": {},
   "outputs": [],
   "source": [
    "reconstructed_model = keras.models.load_model(\"my_model\")\n",
    "predictions=reconstructed_model.predict([[0.0864    , 0.16793333, 0.29573333, 0.57673333, 0.26666667,\n",
    "       0.66666667, 0.16      , 0.02733333]])\n",
    "np.set_printoptions(suppress=True)\n",
    "print(predictions*1000)"
   ]
  },
  {
   "cell_type": "code",
   "execution_count": null,
   "metadata": {},
   "outputs": [],
   "source": []
  }
 ],
 "metadata": {
  "kernelspec": {
   "display_name": "Python 3",
   "language": "python",
   "name": "python3"
  },
  "language_info": {
   "codemirror_mode": {
    "name": "ipython",
    "version": 3
   },
   "file_extension": ".py",
   "mimetype": "text/x-python",
   "name": "python",
   "nbconvert_exporter": "python",
   "pygments_lexer": "ipython3",
   "version": "3.8.5"
  }
 },
 "nbformat": 4,
 "nbformat_minor": 5
}
